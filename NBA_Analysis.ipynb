{
  "nbformat": 4,
  "nbformat_minor": 0,
  "metadata": {
    "colab": {
      "name": "Copy of INFO490-NBA.ipynb",
      "version": "0.3.2",
      "provenance": [],
      "collapsed_sections": []
    },
    "kernelspec": {
      "name": "python3",
      "display_name": "Python 3"
    }
  },
  "cells": [
    {
      "metadata": {
        "id": "cJLhvoBdDG6N",
        "colab_type": "text"
      },
      "cell_type": "markdown",
      "source": [
        "ThIs notebook is for finding which NBA player is the most 'average' with respect to age, height, and weight.\n",
        "\n",
        "The next cell defines 5 parallel arrays for each of the player's attributes.  You can think of them as columns in a spreadsheet.  Each player would be row.  Your main task (see instructions) will be to find the player who is closest to Mr. Average using the following formula:\n",
        "$$\\sum_{i=0}^{n} | y_i - x_i|$$\n",
        "\n"
      ]
    },
    {
      "metadata": {
        "id": "UNaiwrECCv6v",
        "colab_type": "code",
        "colab": {}
      },
      "cell_type": "code",
      "source": [
        "import numpy as np\n",
        "\n",
        "players = ['Aaron Gordon', 'Aaron Holiday', 'Abdel Nader', 'Al Horford', 'Al-Farouq Aminu', 'Alan Williams', 'Alec Burks', 'Alex Abrines', 'Alex Caruso', 'Alex Len', 'Alex Poythress', 'Alfonzo McKinnie', 'Alize Johnson', 'Allen Crabbe', 'Allonzo Trier', 'Amile Jefferson', 'Amir Johnson', 'Andre Drummond', 'Andre Iguodala', 'Andrew Harrison', 'Andrew Wiggins', 'Anfernee Simons', 'Angel Delgado', 'Ante Zizic', 'Anthony Davis', 'Anthony Tolliver', 'Antonio Blakeney', 'Aron Baynes', 'Austin Rivers', 'Avery Bradley', 'Bam Adebayo', 'Ben McLemore', 'Ben Simmons', 'Bismack Biyombo', 'Blake Griffin', 'Boban Marjanovic', 'Bobby Portis', 'Bogdan Bogdanovic', 'Bojan Bogdanovic', 'Brad Wanamaker', 'Bradley Beal', 'Brandon Goodwin', 'Brandon Ingram', 'Brandon Knight', 'Brandon Sampson', 'Brook Lopez', 'Bruce Brown', 'Bruno Caboclo', 'Bryn Forbes', 'Buddy Hield', 'C.J. Williams', 'CJ McCollum', 'CJ Miles', 'Caleb Swanigan', 'Cameron Payne', 'Caris LeVert', 'Carmelo Anthony', 'Cedi Osman', 'Chandler Hutchison', 'Chandler Parsons', 'Channing Frye', 'Chasson Randle', 'Cheick Diallo', 'Chimezie Metu', 'Chris Boucher', 'Chris Paul', 'Christian Wood', 'Clint Capela', 'Cody Zeller', 'Collin Sexton', 'Corey Brewer', 'Cory Joseph', 'Courtney Lee', 'Cristiano Felicio', \"D'Angelo Russell\", 'D.J. Augustin', 'D.J. Wilson', 'DJ Stephens', 'Damian Jones', 'Damian Lillard', 'Damion Lee', 'Damyean Dotson', 'Daniel Hamilton', 'Daniel Theis', 'Danilo Gallinari', 'Danny Green', 'Dante Cunningham', 'Dante Exum', 'Danuel House Jr.', 'Dario Saric', 'Darius Miller', 'Darren Collison', 'Daryl Macon', 'David Nwaba', 'Davis Bertans', 'Davon Reed', \"De'Aaron Fox\", \"De'Anthony Melton\", 'DeAndre Jordan', \"DeAndre' Bembry\", 'DeMar DeRozan', 'DeMarcus Cousins', 'DeMarre Carroll', 'DeVaughn Akoon-Purcell', 'Deandre Ayton', 'Delon Wright', 'Demetrius Jackson', 'Deng Adel', 'Dennis Schroder', 'Dennis Smith Jr.', 'Deonte Burton', 'Derrick Favors', 'Derrick Jones Jr.', 'Derrick Rose', 'Derrick White', 'Devin Booker', 'Devin Harris', 'Devin Robinson', \"Devonte' Graham\", 'Dewayne Dedmon', 'Dillon Brooks', 'Dion Waiters', 'Dirk Nowitzki', 'Domantas Sabonis', 'Donovan Mitchell', 'Donte DiVincenzo', 'Donte Grantham', 'Dorian Finney-Smith', 'Doug McDermott', 'Dragan Bender', 'Draymond Green', 'Drew Eubanks', 'Duncan Robinson', 'Dwayne Bacon', 'Dwight Howard', 'Dwight Powell', 'Dwyane Wade', 'Dzanan Musa', \"E'Twaun Moore\", 'Ed Davis', 'Edmond Sumner', 'Ekpe Udoh', 'Elfrid Payton', 'Elie Okobo', 'Emanuel Terry', 'Emmanuel Mudiay', 'Enes Kanter', 'Eric Bledsoe', 'Eric Gordon', 'Eric Moreland', 'Ersan Ilyasova', 'Evan Fournier', 'Evan Turner', 'Frank Jackson', 'Frank Kaminsky', 'Frank Mason', 'Frank Ntilikina', 'Fred VanVleet', 'Furkan Korkmaz', 'Garrett Temple', 'Gary Clark', 'Gary Harris', 'Gary Payton II', 'Gary Trent Jr.', 'George Hill', 'George King', 'Georges Niang', 'Gerald Green', 'Giannis Antetokounmpo', 'Glenn Robinson III', 'Goran Dragic', 'Gordon Hayward', 'Gorgui Dieng', 'Grayson Allen', 'Greg Monroe', 'Guerschon Yabusele', 'Hamidou Diallo', 'Harrison Barnes', 'Harry Giles III', 'Hassan Whiteside', 'Haywood Highsmith', 'Henry Ellenson', 'Ian Clark', 'Ian Mahinmi', 'Ike Anigbogu', 'Iman Shumpert', 'Isaac Bonga', 'Isaiah Briscoe', 'Isaiah Canaan', 'Isaiah Hartenstein', 'Isaiah Hicks', 'Isaiah Thomas', 'Ish Smith', 'Ivan Rabb', 'Ivica Zubac', 'J.J. Barea', 'J.P. Macura', 'JJ Redick', 'JR Smith', 'JaMychal Green', 'JaVale McGee', 'Jabari Parker', 'Jacob Evans', 'Jae Crowder', 'Jahlil Okafor', 'Jake Layman', 'Jakob Poeltl', 'Jalen Brunson', 'Jalen Jones', 'Jamal Crawford', 'Jamal Murray', 'James Ennis III', 'James Harden', 'James Johnson', 'James Nunnally', 'Jared Dudley', 'Jared Terrell', 'Jarell Martin', 'Jaren Jackson Jr.', 'Jaron Blossomgame', 'Jarred Vanderbilt', 'Jarrett Allen', 'Jason Smith', 'Jawun Evans', 'Jaylen Adams', 'Jaylen Brown', 'Jaylen Morris', 'Jayson Tatum', 'Jeff Green', 'Jeff Teague', 'Jerami Grant', 'Jeremy Lamb', 'Jeremy Lin', 'Jerian Grant', 'Jerome Robinson', 'Jerryd Bayless', 'Jevon Carter', 'Jimmy Butler', 'Joakim Noah', 'Joe Chealey', 'Joe Harris', 'Joe Ingles', 'Joel Embiid', 'John Collins', 'John Henson', 'John Holland', 'John Jenkins', 'John Wall', 'Johnathan Motley', 'Johnathan Williams', 'Jon Leuer', 'Jonah Bolden', 'Jonas Jerebko', 'Jonas Valanciunas', 'Jonathan Isaac', 'Jonathon Simmons', 'Jordan Bell', 'Jordan Clarkson', 'Jordan Loyd', 'Jordan McRae', 'Jose Calderon', 'Josh Hart', 'Josh Jackson', 'Josh Okogie', 'Josh Richardson', 'Jrue Holiday', 'Juancho Hernangomez', 'Julian Washburn', 'Julius Randle', 'Justin Anderson', 'Justin Holiday', 'Justin Jackson', 'Justise Winslow', 'Jusuf Nurkic', 'Kadeem Allen', 'Kalin Lucas', 'Karl-Anthony Towns', 'Kawhi Leonard', 'Keita Bates-Diop', 'Kelly Olynyk', 'Kelly Oubre Jr.', 'Kemba Walker', 'Kenneth Faried', 'Kenrich Williams', 'Kent Bazemore', 'Kentavious Caldwell-Pope', 'Kevin Durant', 'Kevin Huerter', 'Kevin Knox', 'Kevin Love', 'Kevon Looney', 'Khem Birch', 'Khris Middleton', 'Khyri Thomas', 'Klay Thompson', 'Kobi Simmons', 'Kosta Koufos', 'Kris Dunn', 'Kyle Anderson', 'Kyle Korver', 'Kyle Kuzma', 'Kyle Lowry', \"Kyle O'Quinn\", 'Kyrie Irving', 'LaMarcus Aldridge', 'Lance Stephenson', 'Lance Thomas', 'Landry Shamet', 'Langston Galloway', 'Larry Nance Jr.', 'Lauri Markkanen', 'LeBron James', 'Lonnie Walker IV', 'Lonzo Ball', 'Lorenzo Brown', 'Lou Williams', 'Luc Mbah a Moute', 'Luka Doncic', 'Luke Kennard', 'Luke Kornet', 'Luol Deng', 'Malachi Richardson', 'Malcolm Brogdon', 'Malik Beasley', 'Malik Monk', 'MarShon Brooks', 'Marc Gasol', 'Marcin Gortat', 'Marco Belinelli', 'Marcus Derrickson', 'Marcus Morris', 'Marcus Smart', 'Mario Hezonja', 'Markelle Fultz', 'Markieff Morris', 'Marquese Chriss', 'Marvin Bagley III', 'Marvin Williams', 'Mason Plumlee', 'Matthew Dellavedova', 'Maurice Harkless', 'Maxi Kleber', 'Melvin Frazier Jr.', 'Meyers Leonard', 'Michael Beasley', 'Michael Carter-Williams', 'Michael Kidd-Gilchrist', 'Mikal Bridges', 'Mike Conley', 'Mike Muscala', 'Mike Scott', 'Miles Bridges', 'Miles Plumlee', 'Milos Teodosic', 'Mitchell Creek', 'Mitchell Robinson', 'Mo Bamba', 'Monte Morris', 'Montrezl Harrell', 'Moritz Wagner', 'Myles Turner', 'Naz Mitrou-Long', 'Nemanja Bjelica', 'Nene', 'Nerlens Noel', 'Nick Young', 'Nicolas Batum', 'Nik Stauskas', 'Nikola Jokic', 'Nikola Mirotic', 'Nikola Vucevic', 'Noah Vonleh', 'Norman Powell', 'OG Anunoby', 'Okaro White', 'Omari Spellman', 'Omri Casspi', 'Otto Porter Jr.', 'PJ Dozier', 'PJ Tucker', 'Pascal Siakam', 'Pat Connaughton', 'Patrick Beverley', 'Patrick McCaw', 'Patrick Patterson', 'Patty Mills', 'Pau Gasol', 'Paul George', 'Paul Millsap', 'Quincy Acy', 'Quincy Pondexter', 'Quinn Cook', 'Rajon Rondo', 'Raul Neto', 'Rawle Alkins', 'Ray Spalding', 'Raymond Felton', 'Reggie Bullock', 'Reggie Jackson', 'Richaun Holmes', 'Ricky Rubio', 'Robert Covington', 'Robert Williams III', 'Robin Lopez', 'Rodions Kurucs', 'Rodney Hood', 'Rodney McGruder', 'Ron Baker', 'Rondae Hollis-Jefferson', \"Royce O'Neale\", 'Rudy Gay', 'Rudy Gobert', 'Russell Westbrook', 'Ryan Anderson', 'Ryan Arcidiacono', 'Ryan Broekhoff', 'Salah Mejri', 'Sam Dekker', 'Semi Ojeleye', 'Serge Ibaka', 'Seth Curry', 'Shabazz Napier', 'Shai Gilgeous-Alexander', 'Shake Milton', 'Shaquille Harrison', 'Shaun Livingston', 'Shelvin Mack', 'Sindarius Thornwell', 'Skal Labissiere', 'Solomon Hill', 'Spencer Dinwiddie', 'Stanley Johnson', 'Stephen Curry', 'Sterling Brown', 'Steven Adams', 'Svi Mykhailiuk', 'T.J. McConnell', 'T.J. Warren', 'TJ Leaf', 'Taj Gibson', 'Taurean Prince', 'Terrance Ferguson', 'Terrence Ross', 'Terry Rozier', 'Thabo Sefolosha', 'Thaddeus Young', 'Theo Pinson', 'Thomas Bryant', 'Thomas Welsh', 'Thon Maker', 'Tim Frazier', 'Tim Hardaway Jr.', 'Timothe Luwawu-Cabarrot', 'Tobias Harris', 'Tomas Satoransky', 'Tony Bradley', 'Tony Parker', 'Tony Snell', 'Torrey Craig', 'Trae Young', 'Treveon Graham', 'Trevon Duval', 'Trevor Ariza', 'Trey Burke', 'Trey Lyles', 'Tristan Thompson', 'Troy Brown Jr.', 'Troy Caupain', 'Troy Daniels', 'Troy Williams', 'Tyler Cavanaugh', 'Tyler Davis', 'Tyler Dorsey', 'Tyler Johnson', 'Tyler Lydon', 'Tyler Ulis', 'Tyreke Evans', 'Tyrone Wallace', 'Tyson Chandler', 'Tyus Jones', 'Udonis Haslem', 'Victor Oladipo', 'Vince Carter', 'Vincent Edwards', 'Wade Baldwin IV', 'Wayne Ellington', 'Wayne Selden', 'Wendell Carter Jr.', 'Wes Iwundu', 'Wesley Johnson', 'Wesley Matthews', 'Will Barton', 'Willie Cauley-Stein', 'Willy Hernangomez', 'Wilson Chandler', 'Yogi Ferrell', 'Yuta Watanabe', 'Zach Collins', 'Zach LaVine', 'Zach Lofton', 'Zaza Pachulia', 'Zhou Qi']\n",
        "teams = ['ORL', 'IND', 'OKC', 'BOS', 'POR', 'BKN', 'SAC', 'OKC', 'LAL', 'ATL', 'ATL', 'GSW', 'IND', 'BKN', 'NYK', 'ORL', 'PHI', 'DET', 'GSW', 'NOP', 'MIN', 'POR', 'LAC', 'CLE', 'NOP', 'MIN', 'CHI', 'BOS', 'HOU', 'MEM', 'MIA', 'SAC', 'PHI', 'CHA', 'DET', 'PHI', 'WAS', 'SAC', 'IND', 'BOS', 'WAS', 'DEN', 'LAL', 'CLE', 'CHI', 'MIL', 'DET', 'MEM', 'SAS', 'SAC', 'MIN', 'POR', 'MEM', 'SAC', 'CLE', 'BKN', 'HOU', 'CLE', 'CHI', 'MEM', 'CLE', 'WAS', 'NOP', 'SAS', 'TOR', 'HOU', 'MIL', 'HOU', 'CHA', 'CLE', 'SAC', 'IND', 'DAL', 'CHI', 'BKN', 'ORL', 'MIL', 'MEM', 'GSW', 'POR', 'GSW', 'NYK', 'ATL', 'BOS', 'LAC', 'TOR', 'SAS', 'UTA', 'HOU', 'MIN', 'NOP', 'IND', 'DAL', 'CLE', 'SAS', 'IND', 'SAC', 'PHX', 'NYK', 'ATL', 'SAS', 'GSW', 'BKN', 'DEN', 'PHX', 'MEM', 'PHI', 'CLE', 'OKC', 'NYK', 'OKC', 'UTA', 'MIA', 'MIN', 'SAS', 'PHX', 'DAL', 'WAS', 'CHA', 'ATL', 'MEM', 'MIA', 'DAL', 'IND', 'UTA', 'MIL', 'OKC', 'DAL', 'IND', 'PHX', 'GSW', 'SAS', 'MIA', 'CHA', 'WAS', 'DAL', 'MIA', 'BKN', 'NOP', 'BKN', 'IND', 'UTA', 'NOP', 'PHX', 'PHX', 'NYK', 'NYK', 'MIL', 'HOU', 'PHX', 'MIL', 'ORL', 'POR', 'NOP', 'CHA', 'SAC', 'NYK', 'TOR', 'PHI', 'LAC', 'HOU', 'DEN', 'WAS', 'POR', 'MIL', 'PHX', 'UTA', 'HOU', 'MIL', 'DET', 'MIA', 'BOS', 'MIN', 'UTA', 'TOR', 'BOS', 'OKC', 'SAC', 'SAC', 'MIA', 'PHI', 'DET', 'NOP', 'WAS', 'IND', 'HOU', 'LAL', 'ORL', 'MIN', 'HOU', 'NYK', 'DEN', 'DET', 'MEM', 'LAC', 'DAL', 'CHA', 'PHI', 'CLE', 'LAC', 'LAL', 'WAS', 'GSW', 'UTA', 'NOP', 'POR', 'SAS', 'DAL', 'CLE', 'PHX', 'DEN', 'PHI', 'HOU', 'MIA', 'HOU', 'BKN', 'MIN', 'ORL', 'MEM', 'CLE', 'DEN', 'BKN', 'NOP', 'PHX', 'ATL', 'BOS', 'MIL', 'BOS', 'WAS', 'MIN', 'OKC', 'CHA', 'TOR', 'ORL', 'LAC', 'MIN', 'MEM', 'PHI', 'MEM', 'CHA', 'BKN', 'UTA', 'PHI', 'ATL', 'CLE', 'CLE', 'NYK', 'WAS', 'LAC', 'LAL', 'DET', 'PHI', 'GSW', 'MEM', 'ORL', 'PHI', 'GSW', 'CLE', 'TOR', 'WAS', 'DET', 'LAL', 'PHX', 'MIN', 'MIA', 'NOP', 'DEN', 'MEM', 'NOP', 'ATL', 'MEM', 'DAL', 'MIA', 'POR', 'NYK', 'DET', 'MIN', 'TOR', 'MIN', 'MIA', 'PHX', 'CHA', 'HOU', 'NOP', 'ATL', 'LAL', 'GSW', 'ATL', 'NYK', 'CLE', 'GSW', 'ORL', 'MIL', 'DET', 'GSW', 'CLE', 'SAC', 'CHI', 'MEM', 'UTA', 'LAL', 'TOR', 'IND', 'BOS', 'SAS', 'LAL', 'NYK', 'LAC', 'DET', 'CLE', 'CHI', 'LAL', 'SAS', 'LAL', 'TOR', 'LAC', 'LAC', 'DAL', 'DET', 'NYK', 'MIN', 'TOR', 'MIL', 'DEN', 'CHA', 'MEM', 'TOR', 'LAC', 'SAS', 'GSW', 'BOS', 'BOS', 'NYK', 'ORL', 'WAS', 'CLE', 'SAC', 'CHA', 'DEN', 'CLE', 'POR', 'DAL', 'ORL', 'POR', 'LAL', 'HOU', 'CHA', 'PHX', 'MEM', 'LAL', 'PHI', 'CHA', 'ATL', 'LAC', 'BKN', 'NYK', 'ORL', 'DEN', 'LAC', 'LAL', 'IND', 'UTA', 'SAC', 'HOU', 'OKC', 'DEN', 'CHA', 'CLE', 'DEN', 'MIL', 'ORL', 'NYK', 'TOR', 'TOR', 'WAS', 'ATL', 'MEM', 'CHI', 'BOS', 'HOU', 'TOR', 'MIL', 'LAC', 'TOR', 'OKC', 'SAS', 'SAS', 'OKC', 'DEN', 'PHX', 'SAS', 'GSW', 'LAL', 'UTA', 'CHI', 'DAL', 'OKC', 'LAL', 'DET', 'PHX', 'UTA', 'MIN', 'BOS', 'CHI', 'BKN', 'POR', 'MIA', 'WAS', 'BKN', 'UTA', 'SAS', 'UTA', 'OKC', 'MIA', 'CHI', 'DAL', 'DAL', 'WAS', 'BOS', 'TOR', 'POR', 'BKN', 'LAC', 'PHI', 'CHI', 'GSW', 'CHA', 'LAC', 'POR', 'NOP', 'BKN', 'NOP', 'GSW', 'MIL', 'OKC', 'DET', 'PHI', 'PHX', 'IND', 'MIN', 'ATL', 'OKC', 'ORL', 'BOS', 'UTA', 'IND', 'BKN', 'WAS', 'DEN', 'DET', 'NOP', 'DAL', 'CHI', 'PHI', 'WAS', 'UTA', 'CHA', 'MIL', 'DEN', 'ATL', 'BKN', 'MIL', 'WAS', 'DAL', 'DEN', 'CLE', 'WAS', 'ORL', 'PHX', 'SAC', 'UTA', 'OKC', 'MEM', 'PHX', 'DEN', 'CHI', 'IND', 'LAC', 'LAL', 'MIN', 'MIA', 'IND', 'ATL', 'HOU', 'POR', 'DET', 'CHI', 'CHI', 'ORL', 'WAS', 'IND', 'DEN', 'SAC', 'CHA', 'LAC', 'SAC', 'MEM', 'POR', 'CHI', 'DET', 'DET', 'HOU']\n",
        "years_old = [23, 22, 25, 32, 28, 26, 27, 25, 24, 25, 25, 26, 22, 26, 23, 25, 31, 25, 35, 24, 23, 19, 24, 22, 25, 33, 22, 32, 26, 28, 21, 26, 22, 26, 29, 30, 24, 26, 29, 29, 25, 23, 21, 27, 21, 30, 22, 23, 25, 26, 29, 27, 31, 21, 24, 24, 34, 23, 22, 30, 35, 26, 22, 21, 26, 33, 23, 24, 26, 20, 32, 27, 33, 26, 22, 31, 22, 28, 23, 28, 26, 24, 23, 26, 30, 31, 31, 23, 25, 24, 28, 31, 23, 26, 26, 23, 21, 20, 30, 24, 29, 28, 32, 25, 20, 26, 24, 22, 25, 21, 25, 27, 22, 30, 24, 22, 35, 23, 23, 29, 23, 27, 40, 22, 22, 22, 23, 25, 27, 21, 28, 22, 24, 23, 33, 27, 37, 19, 29, 29, 23, 31, 24, 21, 22, 22, 26, 29, 30, 27, 31, 26, 30, 20, 25, 24, 20, 24, 21, 32, 24, 24, 26, 20, 32, 25, 25, 33, 24, 25, 32, 28, 29, 23, 28, 23, 20, 26, 20, 29, 22, 22, 27, 32, 20, 28, 19, 22, 27, 20, 24, 30, 30, 22, 21, 34, 23, 34, 33, 28, 31, 23, 21, 28, 23, 24, 23, 22, 25, 38, 21, 28, 29, 31, 28, 33, 24, 24, 19, 25, 19, 20, 32, 22, 22, 22, 23, 20, 32, 30, 24, 26, 30, 26, 21, 30, 23, 29, 33, 23, 27, 31, 24, 21, 28, 30, 27, 28, 23, 23, 29, 23, 31, 26, 21, 29, 24, 26, 25, 27, 37, 23, 22, 20, 25, 28, 23, 27, 24, 25, 29, 23, 22, 24, 26, 29, 23, 27, 23, 27, 23, 28, 29, 24, 29, 25, 30, 20, 19, 30, 23, 26, 27, 22, 29, 21, 29, 24, 25, 37, 23, 32, 28, 26, 33, 28, 30, 21, 27, 26, 21, 34, 20, 21, 28, 32, 32, 19, 22, 23, 33, 23, 26, 22, 21, 30, 34, 34, 32, 23, 29, 24, 23, 20, 29, 21, 19, 32, 28, 28, 25, 27, 22, 26, 30, 27, 25, 22, 31, 27, 30, 20, 30, 31, 26, 20, 20, 23, 25, 21, 22, 25, 30, 36, 24, 33, 30, 25, 23, 28, 28, 23, 25, 21, 26, 21, 30, 25, 22, 33, 24, 26, 30, 23, 29, 30, 38, 28, 34, 28, 30, 25, 32, 26, 21, 21, 34, 27, 28, 25, 28, 28, 21, 30, 21, 26, 27, 25, 24, 25, 32, 26, 30, 30, 24, 28, 32, 24, 24, 29, 28, 27, 20, 22, 25, 33, 28, 24, 22, 27, 25, 22, 30, 24, 25, 21, 26, 25, 21, 33, 24, 20, 28, 24, 34, 30, 23, 21, 23, 21, 28, 26, 23, 26, 27, 21, 36, 27, 28, 20, 25, 20, 33, 26, 23, 27, 19, 23, 27, 24, 25, 21, 22, 26, 22, 23, 29, 24, 36, 22, 38, 26, 42, 22, 22, 31, 24, 19, 24, 31, 32, 28, 25, 24, 31, 25, 24, 21, 23, 26, 35, 23]\n",
        "height_inches = [81, 73, 78, 82, 81, 80, 78, 78, 77, 85, 81, 80, 81, 78, 77, 81, 81, 83, 78, 78, 80, 76, 82, 83, 82, 80, 76, 82, 76, 74, 82, 77, 82, 81, 82, 87, 83, 78, 80, 76, 77, 74, 81, 75, 77, 84, 77, 81, 75, 76, 77, 75, 78, 81, 75, 79, 80, 80, 79, 82, 84, 74, 81, 82, 82, 72, 82, 82, 84, 74, 81, 75, 77, 82, 77, 72, 82, 77, 84, 75, 78, 78, 79, 80, 82, 78, 80, 78, 79, 82, 80, 72, 75, 76, 82, 77, 75, 76, 83, 78, 79, 83, 80, 78, 85, 77, 73, 79, 73, 75, 77, 82, 79, 75, 76, 78, 75, 80, 74, 84, 78, 76, 84, 83, 75, 76, 80, 80, 80, 85, 79, 82, 80, 79, 83, 83, 76, 81, 76, 82, 78, 82, 76, 75, 81, 77, 83, 73, 76, 82, 82, 79, 79, 75, 84, 71, 78, 72, 79, 78, 80, 76, 75, 78, 75, 78, 80, 79, 83, 78, 75, 80, 83, 77, 83, 80, 77, 80, 82, 84, 79, 83, 75, 83, 82, 77, 80, 75, 72, 84, 81, 69, 72, 82, 85, 72, 77, 76, 78, 81, 84, 80, 78, 78, 83, 81, 84, 75, 79, 77, 76, 79, 77, 80, 79, 79, 75, 82, 83, 80, 81, 83, 84, 72, 74, 79, 77, 80, 81, 74, 81, 77, 75, 76, 77, 75, 74, 80, 83, 75, 78, 80, 84, 82, 83, 77, 76, 76, 82, 81, 82, 82, 82, 84, 82, 78, 81, 77, 76, 77, 75, 77, 80, 76, 78, 76, 81, 80, 81, 78, 78, 80, 79, 84, 75, 73, 84, 79, 81, 84, 79, 73, 80, 79, 77, 77, 81, 79, 81, 82, 81, 81, 80, 75, 79, 76, 84, 76, 81, 79, 81, 73, 82, 75, 83, 78, 80, 77, 74, 81, 84, 80, 77, 78, 77, 73, 80, 79, 77, 85, 81, 78, 77, 77, 75, 77, 85, 83, 77, 79, 81, 76, 80, 76, 82, 82, 83, 81, 83, 76, 81, 83, 78, 85, 81, 78, 79, 79, 73, 83, 80, 79, 83, 77, 78, 85, 84, 75, 80, 83, 83, 76, 82, 83, 83, 79, 80, 78, 84, 82, 84, 81, 76, 80, 80, 81, 81, 80, 78, 78, 81, 76, 73, 79, 81, 72, 84, 81, 80, 79, 79, 74, 73, 73, 77, 82, 73, 79, 75, 82, 76, 81, 82, 84, 81, 80, 76, 76, 79, 78, 80, 85, 75, 82, 75, 79, 86, 81, 79, 82, 74, 73, 78, 78, 76, 79, 75, 77, 83, 79, 78, 79, 75, 78, 84, 80, 74, 80, 82, 81, 80, 79, 79, 73, 79, 80, 78, 83, 84, 85, 73, 78, 78, 81, 79, 82, 74, 79, 79, 74, 77, 74, 80, 73, 82, 82, 79, 76, 76, 79, 81, 83, 77, 76, 83, 71, 78, 77, 85, 74, 80, 76, 78, 80, 76, 77, 77, 83, 79, 79, 77, 78, 84, 83, 81, 72, 81, 84, 77, 76, 83, 85]\n",
        "weight_pounds = [220, 185, 225, 245, 220, 265, 214, 200, 186, 250, 235, 215, 212, 212, 200, 222, 240, 279, 215, 213, 194, 185, 245, 254, 253, 250, 192, 260, 200, 180, 255, 201, 230, 255, 250, 290, 250, 205, 216, 210, 207, 180, 190, 195, 184, 270, 202, 218, 190, 214, 226, 190, 220, 250, 190, 204, 240, 215, 197, 230, 255, 185, 220, 225, 200, 175, 214, 240, 240, 190, 186, 193, 215, 265, 198, 183, 231, 188, 245, 195, 210, 210, 195, 243, 225, 215, 230, 190, 220, 223, 225, 175, 185, 219, 225, 208, 175, 200, 265, 210, 220, 270, 215, 200, 250, 183, 201, 200, 172, 195, 245, 265, 200, 200, 190, 210, 185, 200, 185, 245, 220, 215, 245, 240, 215, 203, 215, 220, 225, 225, 230, 245, 210, 221, 265, 240, 220, 208, 191, 225, 176, 245, 185, 190, 220, 200, 250, 205, 215, 238, 235, 205, 220, 205, 242, 190, 200, 195, 190, 195, 225, 210, 190, 205, 188, 220, 230, 205, 242, 222, 190, 225, 252, 198, 265, 260, 198, 225, 240, 265, 220, 245, 175, 262, 250, 215, 180, 215, 200, 249, 230, 185, 175, 220, 240, 185, 205, 200, 225, 227, 270, 245, 210, 235, 275, 215, 230, 190, 220, 185, 207, 210, 220, 240, 208, 237, 227, 239, 242, 220, 214, 237, 240, 190, 190, 220, 185, 208, 235, 195, 220, 185, 200, 205, 190, 200, 196, 232, 230, 190, 218, 226, 250, 235, 219, 205, 215, 210, 230, 228, 228, 220, 231, 265, 210, 195, 224, 194, 210, 179, 200, 215, 200, 212, 200, 205, 230, 209, 250, 230, 181, 210, 225, 275, 200, 195, 248, 230, 229, 240, 205, 184, 220, 210, 201, 205, 240, 190, 215, 251, 220, 233, 222, 210, 215, 170, 245, 205, 230, 212, 220, 196, 250, 193, 260, 230, 240, 188, 200, 230, 240, 250, 205, 190, 189, 175, 230, 218, 206, 250, 237, 205, 229, 195, 200, 200, 255, 240, 210, 249, 235, 220, 225, 200, 245, 240, 234, 237, 235, 200, 220, 240, 200, 255, 235, 190, 232, 210, 175, 240, 237, 225, 249, 196, 225, 240, 221, 175, 240, 245, 250, 218, 234, 250, 220, 210, 200, 205, 250, 250, 260, 250, 215, 232, 205, 245, 225, 198, 205, 245, 230, 209, 185, 185, 230, 180, 250, 220, 246, 240, 230, 179, 186, 179, 225, 215, 205, 205, 208, 235, 190, 225, 240, 275, 210, 206, 200, 220, 217, 226, 230, 245, 200, 240, 200, 215, 235, 230, 241, 235, 185, 180, 181, 207, 190, 192, 203, 215, 235, 225, 210, 245, 190, 232, 265, 205, 190, 215, 225, 232, 220, 190, 206, 190, 220, 221, 218, 248, 255, 221, 170, 205, 210, 235, 210, 248, 185, 213, 215, 180, 225, 189, 215, 175, 234, 238, 215, 210, 205, 218, 238, 266, 183, 190, 225, 160, 220, 198, 240, 196, 235, 210, 220, 225, 200, 200, 230, 255, 195, 215, 220, 190, 240, 240, 225, 180, 205, 235, 200, 180, 270, 210]\n",
        "\n",
        "def test():\n",
        "  print(\"total: {}\".format(len(players)))\n"
      ],
      "execution_count": 0,
      "outputs": []
    },
    {
      "metadata": {
        "id": "F6InLv_SZOhW",
        "colab_type": "text"
      },
      "cell_type": "markdown",
      "source": [
        "Changes each of these lists into **NumPy** arrays.\n",
        "Converts inches to meters and pounds to kilos"
      ]
    },
    {
      "metadata": {
        "id": "JzOAHrzKFxRM",
        "colab_type": "code",
        "colab": {}
      },
      "cell_type": "code",
      "source": [
        "np_players       = np.asarray(players)\n",
        "np_teams         = np.asarray(teams)\n",
        "np_years_old     = np.asarray(years_old)\n",
        "np_height_inches = np.asarray(height_inches)\n",
        "np_weight_pounds = np.asarray(weight_pounds)\n",
        "\n",
        "print(len(np_players))\n",
        "\n",
        "#Define Conversion Constants\n",
        "INCHES_TO_METERS = 0.0254\n",
        "POUNDS_TO_KILOS = 0.453592\n",
        "\n",
        "#Convert the arrays\n",
        "np_height_meters = np_height_inches*INCHES_TO_METERS\n",
        "np_weight_kilos  = np_weight_pounds*POUNDS_TO_KILOS\n",
        "print(len(np_height_inches))"
      ],
      "execution_count": 0,
      "outputs": []
    },
    {
      "metadata": {
        "id": "coWkf0hIbImI",
        "colab_type": "text"
      },
      "cell_type": "markdown",
      "source": [
        "Functions to find the shortest and tallest players"
      ]
    },
    {
      "metadata": {
        "id": "olwbGWp4bIAe",
        "colab_type": "code",
        "colab": {
          "base_uri": "https://localhost:8080/",
          "height": 68
        },
        "outputId": "01ee48d4-0e0d-42e5-f430-ed2c929cf884"
      },
      "cell_type": "code",
      "source": [
        "def shortest_player(np_h):\n",
        "  return np.argmin(np_h)\n",
        "def tallest_player(np_h):\n",
        "  return np.argmax(np_h)\n",
        "\n",
        "print(np_players[shortest_player(np_height_meters)])\n",
        "print(np_players[tallest_player(np_height_meters)])"
      ],
      "execution_count": 23,
      "outputs": [
        {
          "output_type": "stream",
          "text": [
            "Isaiah Thomas\n",
            "Boban Marjanovic\n",
            "Anfernee Simons\n"
          ],
          "name": "stdout"
        }
      ]
    },
    {
      "metadata": {
        "id": "zKmY4Pql8eMY",
        "colab_type": "text"
      },
      "cell_type": "markdown",
      "source": [
        "Function to Find Mr. Average using Manhattan Distance"
      ]
    },
    {
      "metadata": {
        "id": "fKND_EBJ8iWW",
        "colab_type": "code",
        "colab": {
          "base_uri": "https://localhost:8080/",
          "height": 34
        },
        "outputId": "47b352ee-805a-4090-cb43-1af2fbc41cf4"
      },
      "cell_type": "code",
      "source": [
        "def find_mr_average(players, x,y,z, v=10):\n",
        "  # Find the average of each parameter\n",
        "  x_average = np.average(x)\n",
        "  y_average = np.average(y)\n",
        "  z_average = np.average(z)\n",
        "  \n",
        "  if v == 10:\n",
        "    x = (x - np.amin(x)) / np.ptp(x)\n",
        "    y = (y - np.amin(y)) / np.ptp(y)\n",
        "    z = (z - np.amin(z)) / np.ptp(z)\n",
        "    x_average = np.average(x)\n",
        "    y_average = np.average(y)\n",
        "    z_average = np.average(z)\n",
        "  \n",
        "  #Compute man_distance to the average value for each player\n",
        "  manhattan_dist = np.absolute(x - x_average) + np.absolute(y - y_average) + np.absolute(z - z_average)\n",
        "  \n",
        "  #Find player closest to average\n",
        "  idx = np.argmin(manhattan_dist)\n",
        "  player = players[idx]\n",
        "  \n",
        "  return idx, player\n",
        "\n",
        "idx, player = find_mr_average(np_players, np_years_old, np_height_inches, np_weight_pounds)\n",
        "print(player)"
      ],
      "execution_count": 21,
      "outputs": [
        {
          "output_type": "stream",
          "text": [
            "Danuel House Jr.\n"
          ],
          "name": "stdout"
        }
      ]
    }
  ]
}